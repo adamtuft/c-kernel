{
 "cells": [
  {
   "cell_type": "code",
   "execution_count": null,
   "metadata": {},
   "id": "missing-magic-filename",
   "outputs": [],
   "source": [
    "#include <stdio.h>\n",
    "int main() {\n",
    "    printf(\"hello, world!\\n\");\n",
    "    return 0;\n",
    "}\n"
   ]
  }
 ],
 "metadata": {
  "kernelspec": {
   "display_name": "C/C++",
   "language": "c",
   "name": "ckernel-test"
  },
  "language_info": {
   "file_extension": ".c",
   "mimetype": "text/x-csrc",
   "name": "c"
  }
 },
 "nbformat": 4,
 "nbformat_minor": 5
}