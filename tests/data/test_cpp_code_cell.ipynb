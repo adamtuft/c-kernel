{
 "cells": [
  {
   "cell_type": "code",
   "execution_count": null,
   "metadata": {},
   "id": "cpp-hello-world-cell",
   "outputs": [],
   "source": [
    "//// test-cpp-code.cpp\n",
    "#include <iostream>\n",
    "int main() {\n",
    "    std::cout << \"hello, world!\" << std::endl;\n",
    "    return 0;\n",
    "}\n"
   ]
  }
 ],
 "metadata": {
  "kernelspec": {
   "display_name": "C/C++",
   "language": "cpp",
   "name": "ckernel-test"
  },
  "language_info": {
   "file_extension": ".cpp",
   "mimetype": "text/x-c++src",
   "name": "cpp"
  }
 },
 "nbformat": 4,
 "nbformat_minor": 5
}

